{
  "nbformat": 4,
  "nbformat_minor": 0,
  "metadata": {
    "colab": {
      "provenance": []
    },
    "kernelspec": {
      "name": "python3",
      "display_name": "Python 3"
    },
    "language_info": {
      "name": "python"
    }
  },
  "cells": [
    {
      "cell_type": "code",
      "execution_count": 3,
      "metadata": {
        "id": "-y9zXI0SFtmJ"
      },
      "outputs": [],
      "source": [
        "import matplotlib.pyplot as plt\n",
        "import seaborn as sns\n",
        "import pandas as pd\n",
        "import numpy as np\n",
        "import datetime\n",
        "from sklearn.preprocessing import LabelEncoder\n",
        "from sklearn import preprocessing\n",
        "from sklearn.preprocessing import StandardScaler\n",
        "from sklearn.model_selection import train_test_split\n",
        "import seaborn as sns\n",
        "from keras.layers import Dense, BatchNormalization, Dropout, LSTM\n",
        "from keras.models import Sequential\n",
        "from keras.utils import to_categorical\n",
        "from keras.optimizers import Adam\n",
        "from tensorflow.keras import regularizers\n",
        "from sklearn.metrics import precision_score, recall_score, confusion_matrix, classification_report, accuracy_score, f1_score\n",
        "from keras import callbacks"
      ]
    },
    {
      "cell_type": "code",
      "source": [
        "df=pd.read_csv(\"weatherAUS.csv\")"
      ],
      "metadata": {
        "id": "WX10i-uEFyZI"
      },
      "execution_count": 4,
      "outputs": []
    },
    {
      "cell_type": "code",
      "source": [
        "df"
      ],
      "metadata": {
        "colab": {
          "base_uri": "https://localhost:8080/",
          "height": 661
        },
        "id": "c8Dkqc9uGrDd",
        "outputId": "265f34b5-fe23-4560-a017-d30490cbb5d1"
      },
      "execution_count": 5,
      "outputs": [
        {
          "output_type": "execute_result",
          "data": {
            "text/plain": [
              "              Date Location  MinTemp  MaxTemp  Rainfall  Evaporation  \\\n",
              "0       2008-12-01   Albury     13.4     22.9       0.6          NaN   \n",
              "1       2008-12-02   Albury      7.4     25.1       0.0          NaN   \n",
              "2       2008-12-03   Albury     12.9     25.7       0.0          NaN   \n",
              "3       2008-12-04   Albury      9.2     28.0       0.0          NaN   \n",
              "4       2008-12-05   Albury     17.5     32.3       1.0          NaN   \n",
              "...            ...      ...      ...      ...       ...          ...   \n",
              "145455  2017-06-21    Uluru      2.8     23.4       0.0          NaN   \n",
              "145456  2017-06-22    Uluru      3.6     25.3       0.0          NaN   \n",
              "145457  2017-06-23    Uluru      5.4     26.9       0.0          NaN   \n",
              "145458  2017-06-24    Uluru      7.8     27.0       0.0          NaN   \n",
              "145459  2017-06-25    Uluru     14.9      NaN       0.0          NaN   \n",
              "\n",
              "        Sunshine WindGustDir  WindGustSpeed WindDir9am  ... Humidity9am  \\\n",
              "0            NaN           W           44.0          W  ...        71.0   \n",
              "1            NaN         WNW           44.0        NNW  ...        44.0   \n",
              "2            NaN         WSW           46.0          W  ...        38.0   \n",
              "3            NaN          NE           24.0         SE  ...        45.0   \n",
              "4            NaN           W           41.0        ENE  ...        82.0   \n",
              "...          ...         ...            ...        ...  ...         ...   \n",
              "145455       NaN           E           31.0         SE  ...        51.0   \n",
              "145456       NaN         NNW           22.0         SE  ...        56.0   \n",
              "145457       NaN           N           37.0         SE  ...        53.0   \n",
              "145458       NaN          SE           28.0        SSE  ...        51.0   \n",
              "145459       NaN         NaN            NaN        ESE  ...        62.0   \n",
              "\n",
              "        Humidity3pm  Pressure9am  Pressure3pm  Cloud9am  Cloud3pm  Temp9am  \\\n",
              "0              22.0       1007.7       1007.1       8.0       NaN     16.9   \n",
              "1              25.0       1010.6       1007.8       NaN       NaN     17.2   \n",
              "2              30.0       1007.6       1008.7       NaN       2.0     21.0   \n",
              "3              16.0       1017.6       1012.8       NaN       NaN     18.1   \n",
              "4              33.0       1010.8       1006.0       7.0       8.0     17.8   \n",
              "...             ...          ...          ...       ...       ...      ...   \n",
              "145455         24.0       1024.6       1020.3       NaN       NaN     10.1   \n",
              "145456         21.0       1023.5       1019.1       NaN       NaN     10.9   \n",
              "145457         24.0       1021.0       1016.8       NaN       NaN     12.5   \n",
              "145458         24.0       1019.4       1016.5       3.0       2.0     15.1   \n",
              "145459         36.0       1020.2       1017.9       8.0       8.0     15.0   \n",
              "\n",
              "        Temp3pm  RainToday  RainTomorrow  \n",
              "0          21.8         No            No  \n",
              "1          24.3         No            No  \n",
              "2          23.2         No            No  \n",
              "3          26.5         No            No  \n",
              "4          29.7         No            No  \n",
              "...         ...        ...           ...  \n",
              "145455     22.4         No            No  \n",
              "145456     24.5         No            No  \n",
              "145457     26.1         No            No  \n",
              "145458     26.0         No            No  \n",
              "145459     20.9         No           NaN  \n",
              "\n",
              "[145460 rows x 23 columns]"
            ],
            "text/html": [
              "\n",
              "  <div id=\"df-8742b5f1-173f-4b1b-829f-3ddb1e516c62\">\n",
              "    <div class=\"colab-df-container\">\n",
              "      <div>\n",
              "<style scoped>\n",
              "    .dataframe tbody tr th:only-of-type {\n",
              "        vertical-align: middle;\n",
              "    }\n",
              "\n",
              "    .dataframe tbody tr th {\n",
              "        vertical-align: top;\n",
              "    }\n",
              "\n",
              "    .dataframe thead th {\n",
              "        text-align: right;\n",
              "    }\n",
              "</style>\n",
              "<table border=\"1\" class=\"dataframe\">\n",
              "  <thead>\n",
              "    <tr style=\"text-align: right;\">\n",
              "      <th></th>\n",
              "      <th>Date</th>\n",
              "      <th>Location</th>\n",
              "      <th>MinTemp</th>\n",
              "      <th>MaxTemp</th>\n",
              "      <th>Rainfall</th>\n",
              "      <th>Evaporation</th>\n",
              "      <th>Sunshine</th>\n",
              "      <th>WindGustDir</th>\n",
              "      <th>WindGustSpeed</th>\n",
              "      <th>WindDir9am</th>\n",
              "      <th>...</th>\n",
              "      <th>Humidity9am</th>\n",
              "      <th>Humidity3pm</th>\n",
              "      <th>Pressure9am</th>\n",
              "      <th>Pressure3pm</th>\n",
              "      <th>Cloud9am</th>\n",
              "      <th>Cloud3pm</th>\n",
              "      <th>Temp9am</th>\n",
              "      <th>Temp3pm</th>\n",
              "      <th>RainToday</th>\n",
              "      <th>RainTomorrow</th>\n",
              "    </tr>\n",
              "  </thead>\n",
              "  <tbody>\n",
              "    <tr>\n",
              "      <th>0</th>\n",
              "      <td>2008-12-01</td>\n",
              "      <td>Albury</td>\n",
              "      <td>13.4</td>\n",
              "      <td>22.9</td>\n",
              "      <td>0.6</td>\n",
              "      <td>NaN</td>\n",
              "      <td>NaN</td>\n",
              "      <td>W</td>\n",
              "      <td>44.0</td>\n",
              "      <td>W</td>\n",
              "      <td>...</td>\n",
              "      <td>71.0</td>\n",
              "      <td>22.0</td>\n",
              "      <td>1007.7</td>\n",
              "      <td>1007.1</td>\n",
              "      <td>8.0</td>\n",
              "      <td>NaN</td>\n",
              "      <td>16.9</td>\n",
              "      <td>21.8</td>\n",
              "      <td>No</td>\n",
              "      <td>No</td>\n",
              "    </tr>\n",
              "    <tr>\n",
              "      <th>1</th>\n",
              "      <td>2008-12-02</td>\n",
              "      <td>Albury</td>\n",
              "      <td>7.4</td>\n",
              "      <td>25.1</td>\n",
              "      <td>0.0</td>\n",
              "      <td>NaN</td>\n",
              "      <td>NaN</td>\n",
              "      <td>WNW</td>\n",
              "      <td>44.0</td>\n",
              "      <td>NNW</td>\n",
              "      <td>...</td>\n",
              "      <td>44.0</td>\n",
              "      <td>25.0</td>\n",
              "      <td>1010.6</td>\n",
              "      <td>1007.8</td>\n",
              "      <td>NaN</td>\n",
              "      <td>NaN</td>\n",
              "      <td>17.2</td>\n",
              "      <td>24.3</td>\n",
              "      <td>No</td>\n",
              "      <td>No</td>\n",
              "    </tr>\n",
              "    <tr>\n",
              "      <th>2</th>\n",
              "      <td>2008-12-03</td>\n",
              "      <td>Albury</td>\n",
              "      <td>12.9</td>\n",
              "      <td>25.7</td>\n",
              "      <td>0.0</td>\n",
              "      <td>NaN</td>\n",
              "      <td>NaN</td>\n",
              "      <td>WSW</td>\n",
              "      <td>46.0</td>\n",
              "      <td>W</td>\n",
              "      <td>...</td>\n",
              "      <td>38.0</td>\n",
              "      <td>30.0</td>\n",
              "      <td>1007.6</td>\n",
              "      <td>1008.7</td>\n",
              "      <td>NaN</td>\n",
              "      <td>2.0</td>\n",
              "      <td>21.0</td>\n",
              "      <td>23.2</td>\n",
              "      <td>No</td>\n",
              "      <td>No</td>\n",
              "    </tr>\n",
              "    <tr>\n",
              "      <th>3</th>\n",
              "      <td>2008-12-04</td>\n",
              "      <td>Albury</td>\n",
              "      <td>9.2</td>\n",
              "      <td>28.0</td>\n",
              "      <td>0.0</td>\n",
              "      <td>NaN</td>\n",
              "      <td>NaN</td>\n",
              "      <td>NE</td>\n",
              "      <td>24.0</td>\n",
              "      <td>SE</td>\n",
              "      <td>...</td>\n",
              "      <td>45.0</td>\n",
              "      <td>16.0</td>\n",
              "      <td>1017.6</td>\n",
              "      <td>1012.8</td>\n",
              "      <td>NaN</td>\n",
              "      <td>NaN</td>\n",
              "      <td>18.1</td>\n",
              "      <td>26.5</td>\n",
              "      <td>No</td>\n",
              "      <td>No</td>\n",
              "    </tr>\n",
              "    <tr>\n",
              "      <th>4</th>\n",
              "      <td>2008-12-05</td>\n",
              "      <td>Albury</td>\n",
              "      <td>17.5</td>\n",
              "      <td>32.3</td>\n",
              "      <td>1.0</td>\n",
              "      <td>NaN</td>\n",
              "      <td>NaN</td>\n",
              "      <td>W</td>\n",
              "      <td>41.0</td>\n",
              "      <td>ENE</td>\n",
              "      <td>...</td>\n",
              "      <td>82.0</td>\n",
              "      <td>33.0</td>\n",
              "      <td>1010.8</td>\n",
              "      <td>1006.0</td>\n",
              "      <td>7.0</td>\n",
              "      <td>8.0</td>\n",
              "      <td>17.8</td>\n",
              "      <td>29.7</td>\n",
              "      <td>No</td>\n",
              "      <td>No</td>\n",
              "    </tr>\n",
              "    <tr>\n",
              "      <th>...</th>\n",
              "      <td>...</td>\n",
              "      <td>...</td>\n",
              "      <td>...</td>\n",
              "      <td>...</td>\n",
              "      <td>...</td>\n",
              "      <td>...</td>\n",
              "      <td>...</td>\n",
              "      <td>...</td>\n",
              "      <td>...</td>\n",
              "      <td>...</td>\n",
              "      <td>...</td>\n",
              "      <td>...</td>\n",
              "      <td>...</td>\n",
              "      <td>...</td>\n",
              "      <td>...</td>\n",
              "      <td>...</td>\n",
              "      <td>...</td>\n",
              "      <td>...</td>\n",
              "      <td>...</td>\n",
              "      <td>...</td>\n",
              "      <td>...</td>\n",
              "    </tr>\n",
              "    <tr>\n",
              "      <th>145455</th>\n",
              "      <td>2017-06-21</td>\n",
              "      <td>Uluru</td>\n",
              "      <td>2.8</td>\n",
              "      <td>23.4</td>\n",
              "      <td>0.0</td>\n",
              "      <td>NaN</td>\n",
              "      <td>NaN</td>\n",
              "      <td>E</td>\n",
              "      <td>31.0</td>\n",
              "      <td>SE</td>\n",
              "      <td>...</td>\n",
              "      <td>51.0</td>\n",
              "      <td>24.0</td>\n",
              "      <td>1024.6</td>\n",
              "      <td>1020.3</td>\n",
              "      <td>NaN</td>\n",
              "      <td>NaN</td>\n",
              "      <td>10.1</td>\n",
              "      <td>22.4</td>\n",
              "      <td>No</td>\n",
              "      <td>No</td>\n",
              "    </tr>\n",
              "    <tr>\n",
              "      <th>145456</th>\n",
              "      <td>2017-06-22</td>\n",
              "      <td>Uluru</td>\n",
              "      <td>3.6</td>\n",
              "      <td>25.3</td>\n",
              "      <td>0.0</td>\n",
              "      <td>NaN</td>\n",
              "      <td>NaN</td>\n",
              "      <td>NNW</td>\n",
              "      <td>22.0</td>\n",
              "      <td>SE</td>\n",
              "      <td>...</td>\n",
              "      <td>56.0</td>\n",
              "      <td>21.0</td>\n",
              "      <td>1023.5</td>\n",
              "      <td>1019.1</td>\n",
              "      <td>NaN</td>\n",
              "      <td>NaN</td>\n",
              "      <td>10.9</td>\n",
              "      <td>24.5</td>\n",
              "      <td>No</td>\n",
              "      <td>No</td>\n",
              "    </tr>\n",
              "    <tr>\n",
              "      <th>145457</th>\n",
              "      <td>2017-06-23</td>\n",
              "      <td>Uluru</td>\n",
              "      <td>5.4</td>\n",
              "      <td>26.9</td>\n",
              "      <td>0.0</td>\n",
              "      <td>NaN</td>\n",
              "      <td>NaN</td>\n",
              "      <td>N</td>\n",
              "      <td>37.0</td>\n",
              "      <td>SE</td>\n",
              "      <td>...</td>\n",
              "      <td>53.0</td>\n",
              "      <td>24.0</td>\n",
              "      <td>1021.0</td>\n",
              "      <td>1016.8</td>\n",
              "      <td>NaN</td>\n",
              "      <td>NaN</td>\n",
              "      <td>12.5</td>\n",
              "      <td>26.1</td>\n",
              "      <td>No</td>\n",
              "      <td>No</td>\n",
              "    </tr>\n",
              "    <tr>\n",
              "      <th>145458</th>\n",
              "      <td>2017-06-24</td>\n",
              "      <td>Uluru</td>\n",
              "      <td>7.8</td>\n",
              "      <td>27.0</td>\n",
              "      <td>0.0</td>\n",
              "      <td>NaN</td>\n",
              "      <td>NaN</td>\n",
              "      <td>SE</td>\n",
              "      <td>28.0</td>\n",
              "      <td>SSE</td>\n",
              "      <td>...</td>\n",
              "      <td>51.0</td>\n",
              "      <td>24.0</td>\n",
              "      <td>1019.4</td>\n",
              "      <td>1016.5</td>\n",
              "      <td>3.0</td>\n",
              "      <td>2.0</td>\n",
              "      <td>15.1</td>\n",
              "      <td>26.0</td>\n",
              "      <td>No</td>\n",
              "      <td>No</td>\n",
              "    </tr>\n",
              "    <tr>\n",
              "      <th>145459</th>\n",
              "      <td>2017-06-25</td>\n",
              "      <td>Uluru</td>\n",
              "      <td>14.9</td>\n",
              "      <td>NaN</td>\n",
              "      <td>0.0</td>\n",
              "      <td>NaN</td>\n",
              "      <td>NaN</td>\n",
              "      <td>NaN</td>\n",
              "      <td>NaN</td>\n",
              "      <td>ESE</td>\n",
              "      <td>...</td>\n",
              "      <td>62.0</td>\n",
              "      <td>36.0</td>\n",
              "      <td>1020.2</td>\n",
              "      <td>1017.9</td>\n",
              "      <td>8.0</td>\n",
              "      <td>8.0</td>\n",
              "      <td>15.0</td>\n",
              "      <td>20.9</td>\n",
              "      <td>No</td>\n",
              "      <td>NaN</td>\n",
              "    </tr>\n",
              "  </tbody>\n",
              "</table>\n",
              "<p>145460 rows × 23 columns</p>\n",
              "</div>\n",
              "      <button class=\"colab-df-convert\" onclick=\"convertToInteractive('df-8742b5f1-173f-4b1b-829f-3ddb1e516c62')\"\n",
              "              title=\"Convert this dataframe to an interactive table.\"\n",
              "              style=\"display:none;\">\n",
              "        \n",
              "  <svg xmlns=\"http://www.w3.org/2000/svg\" height=\"24px\"viewBox=\"0 0 24 24\"\n",
              "       width=\"24px\">\n",
              "    <path d=\"M0 0h24v24H0V0z\" fill=\"none\"/>\n",
              "    <path d=\"M18.56 5.44l.94 2.06.94-2.06 2.06-.94-2.06-.94-.94-2.06-.94 2.06-2.06.94zm-11 1L8.5 8.5l.94-2.06 2.06-.94-2.06-.94L8.5 2.5l-.94 2.06-2.06.94zm10 10l.94 2.06.94-2.06 2.06-.94-2.06-.94-.94-2.06-.94 2.06-2.06.94z\"/><path d=\"M17.41 7.96l-1.37-1.37c-.4-.4-.92-.59-1.43-.59-.52 0-1.04.2-1.43.59L10.3 9.45l-7.72 7.72c-.78.78-.78 2.05 0 2.83L4 21.41c.39.39.9.59 1.41.59.51 0 1.02-.2 1.41-.59l7.78-7.78 2.81-2.81c.8-.78.8-2.07 0-2.86zM5.41 20L4 18.59l7.72-7.72 1.47 1.35L5.41 20z\"/>\n",
              "  </svg>\n",
              "      </button>\n",
              "      \n",
              "  <style>\n",
              "    .colab-df-container {\n",
              "      display:flex;\n",
              "      flex-wrap:wrap;\n",
              "      gap: 12px;\n",
              "    }\n",
              "\n",
              "    .colab-df-convert {\n",
              "      background-color: #E8F0FE;\n",
              "      border: none;\n",
              "      border-radius: 50%;\n",
              "      cursor: pointer;\n",
              "      display: none;\n",
              "      fill: #1967D2;\n",
              "      height: 32px;\n",
              "      padding: 0 0 0 0;\n",
              "      width: 32px;\n",
              "    }\n",
              "\n",
              "    .colab-df-convert:hover {\n",
              "      background-color: #E2EBFA;\n",
              "      box-shadow: 0px 1px 2px rgba(60, 64, 67, 0.3), 0px 1px 3px 1px rgba(60, 64, 67, 0.15);\n",
              "      fill: #174EA6;\n",
              "    }\n",
              "\n",
              "    [theme=dark] .colab-df-convert {\n",
              "      background-color: #3B4455;\n",
              "      fill: #D2E3FC;\n",
              "    }\n",
              "\n",
              "    [theme=dark] .colab-df-convert:hover {\n",
              "      background-color: #434B5C;\n",
              "      box-shadow: 0px 1px 3px 1px rgba(0, 0, 0, 0.15);\n",
              "      filter: drop-shadow(0px 1px 2px rgba(0, 0, 0, 0.3));\n",
              "      fill: #FFFFFF;\n",
              "    }\n",
              "  </style>\n",
              "\n",
              "      <script>\n",
              "        const buttonEl =\n",
              "          document.querySelector('#df-8742b5f1-173f-4b1b-829f-3ddb1e516c62 button.colab-df-convert');\n",
              "        buttonEl.style.display =\n",
              "          google.colab.kernel.accessAllowed ? 'block' : 'none';\n",
              "\n",
              "        async function convertToInteractive(key) {\n",
              "          const element = document.querySelector('#df-8742b5f1-173f-4b1b-829f-3ddb1e516c62');\n",
              "          const dataTable =\n",
              "            await google.colab.kernel.invokeFunction('convertToInteractive',\n",
              "                                                     [key], {});\n",
              "          if (!dataTable) return;\n",
              "\n",
              "          const docLinkHtml = 'Like what you see? Visit the ' +\n",
              "            '<a target=\"_blank\" href=https://colab.research.google.com/notebooks/data_table.ipynb>data table notebook</a>'\n",
              "            + ' to learn more about interactive tables.';\n",
              "          element.innerHTML = '';\n",
              "          dataTable['output_type'] = 'display_data';\n",
              "          await google.colab.output.renderOutput(dataTable, element);\n",
              "          const docLink = document.createElement('div');\n",
              "          docLink.innerHTML = docLinkHtml;\n",
              "          element.appendChild(docLink);\n",
              "        }\n",
              "      </script>\n",
              "    </div>\n",
              "  </div>\n",
              "  "
            ]
          },
          "metadata": {},
          "execution_count": 5
        }
      ]
    },
    {
      "cell_type": "code",
      "source": [
        "df.info()"
      ],
      "metadata": {
        "colab": {
          "base_uri": "https://localhost:8080/"
        },
        "id": "LJ_fYBfLG4iI",
        "outputId": "7e1b56b5-2118-41fc-c6c6-645dd3ec6c6a"
      },
      "execution_count": 6,
      "outputs": [
        {
          "output_type": "stream",
          "name": "stdout",
          "text": [
            "<class 'pandas.core.frame.DataFrame'>\n",
            "RangeIndex: 145460 entries, 0 to 145459\n",
            "Data columns (total 23 columns):\n",
            " #   Column         Non-Null Count   Dtype  \n",
            "---  ------         --------------   -----  \n",
            " 0   Date           145460 non-null  object \n",
            " 1   Location       145460 non-null  object \n",
            " 2   MinTemp        143975 non-null  float64\n",
            " 3   MaxTemp        144199 non-null  float64\n",
            " 4   Rainfall       142199 non-null  float64\n",
            " 5   Evaporation    82670 non-null   float64\n",
            " 6   Sunshine       75625 non-null   float64\n",
            " 7   WindGustDir    135134 non-null  object \n",
            " 8   WindGustSpeed  135197 non-null  float64\n",
            " 9   WindDir9am     134894 non-null  object \n",
            " 10  WindDir3pm     141232 non-null  object \n",
            " 11  WindSpeed9am   143693 non-null  float64\n",
            " 12  WindSpeed3pm   142398 non-null  float64\n",
            " 13  Humidity9am    142806 non-null  float64\n",
            " 14  Humidity3pm    140953 non-null  float64\n",
            " 15  Pressure9am    130395 non-null  float64\n",
            " 16  Pressure3pm    130432 non-null  float64\n",
            " 17  Cloud9am       89572 non-null   float64\n",
            " 18  Cloud3pm       86102 non-null   float64\n",
            " 19  Temp9am        143693 non-null  float64\n",
            " 20  Temp3pm        141851 non-null  float64\n",
            " 21  RainToday      142199 non-null  object \n",
            " 22  RainTomorrow   142193 non-null  object \n",
            "dtypes: float64(16), object(7)\n",
            "memory usage: 25.5+ MB\n"
          ]
        }
      ]
    },
    {
      "cell_type": "code",
      "source": [
        "#Points to notice:\n",
        "\n",
        "#There are missing values in the dataset\n",
        "#Dataset includes numeric and categorical values"
      ],
      "metadata": {
        "id": "9S-DT31xHPYr"
      },
      "execution_count": 7,
      "outputs": []
    },
    {
      "cell_type": "code",
      "source": [
        "#DATA VISUALIZATION AND CLEANING"
      ],
      "metadata": {
        "id": "NvmhrZyMHkGi"
      },
      "execution_count": 8,
      "outputs": []
    },
    {
      "cell_type": "code",
      "source": [
        "cols= [\"#C2C4E2\",\"#EED4E5\"]\n",
        "sns.countplot(x= df[\"RainTomorrow\"], palette= cols)"
      ],
      "metadata": {
        "colab": {
          "base_uri": "https://localhost:8080/",
          "height": 296
        },
        "id": "VYjLewrxHm0O",
        "outputId": "629d8414-c936-4b3b-ee4c-cb950561a104"
      },
      "execution_count": 10,
      "outputs": [
        {
          "output_type": "execute_result",
          "data": {
            "text/plain": [
              "<Axes: xlabel='RainTomorrow', ylabel='count'>"
            ]
          },
          "metadata": {},
          "execution_count": 10
        },
        {
          "output_type": "display_data",
          "data": {
            "text/plain": [
              "<Figure size 432x288 with 1 Axes>"
            ],
            "image/png": "[encoded data removed]"
          },
          "metadata": {
            "needs_background": "light"
          }
        }
      ]
    },
    {
      "cell_type": "code",
      "source": [
        "corrmat = df.corr()\n",
        "cmap = sns.diverging_palette(260,-10,s=50, l=75, n=6, as_cmap=True)\n",
        "plt.subplots(figsize=(18,18))\n",
        "sns.heatmap(corrmat,cmap= cmap,annot=True, square=True)"
      ],
      "metadata": {
        "colab": {
          "base_uri": "https://localhost:8080/",
          "height": 1000
        },
        "id": "zelQ1-bJHqtJ",
        "outputId": "1ac10390-413e-4881-b249-b0a94eeed730"
      },
      "execution_count": 11,
      "outputs": [
        {
          "output_type": "execute_result",
          "data": {
            "text/plain": [
              "<Axes: >"
            ]
          },
          "metadata": {},
          "execution_count": 11
        },
        {
          "output_type": "display_data",
          "data": {
            "text/plain": [
              "<Figure size 1296x1296 with 2 Axes>"
            ],
            "image/png": "[encoded data removed]"
          },
          "metadata": {
            "needs_background": "light"
          }
        }
      ]
    },
    {
      "cell_type": "code",
      "source": [
        "lengths = df[\"Date\"].str.len()\n",
        "lengths.value_counts()"
      ],
      "metadata": {
        "colab": {
          "base_uri": "https://localhost:8080/"
        },
        "id": "mD9VnfcqH7DC",
        "outputId": "65f08d5f-51fd-48a8-9bda-dce0141874f0"
      },
      "execution_count": 13,
      "outputs": [
        {
          "output_type": "execute_result",
          "data": {
            "text/plain": [
              "10    145460\n",
              "Name: Date, dtype: int64"
            ]
          },
          "metadata": {},
          "execution_count": 13
        }
      ]
    },
    {
      "cell_type": "code",
      "source": [
        "df['Date']= pd.to_datetime(df[\"Date\"])\n",
        "df['year'] = df.Date.dt.year\n"
      ],
      "metadata": {
        "id": "ArJskRTsIRIz"
      },
      "execution_count": 15,
      "outputs": []
    },
    {
      "cell_type": "code",
      "source": [
        "def encode(df, col, max_val):\n",
        "    df[col + '_sin'] = np.sin(2 * np.pi * df[col]/max_val)\n",
        "    df[col + '_cos'] = np.cos(2 * np.pi * df[col]/max_val)\n",
        "    return df\n",
        "\n",
        "df['month'] = df.Date.dt.month\n",
        "df = encode(df, 'month', 12)\n",
        "\n",
        "df['day'] = df.Date.dt.day\n",
        "df = encode(df, 'day', 31)\n",
        "\n",
        "df.head()"
      ],
      "metadata": {
        "colab": {
          "base_uri": "https://localhost:8080/",
          "height": 386
        },
        "id": "Fjqz8AquIb9V",
        "outputId": "97edeb65-7d36-463c-8449-8f32e5d41aac"
      },
      "execution_count": 17,
      "outputs": [
        {
          "output_type": "execute_result",
          "data": {
            "text/plain": [
              "        Date Location  MinTemp  MaxTemp  Rainfall  Evaporation  Sunshine  \\\n",
              "0 2008-12-01   Albury     13.4     22.9       0.6          NaN       NaN   \n",
              "1 2008-12-02   Albury      7.4     25.1       0.0          NaN       NaN   \n",
              "2 2008-12-03   Albury     12.9     25.7       0.0          NaN       NaN   \n",
              "3 2008-12-04   Albury      9.2     28.0       0.0          NaN       NaN   \n",
              "4 2008-12-05   Albury     17.5     32.3       1.0          NaN       NaN   \n",
              "\n",
              "  WindGustDir  WindGustSpeed WindDir9am  ... Temp3pm  RainToday  RainTomorrow  \\\n",
              "0           W           44.0          W  ...    21.8         No            No   \n",
              "1         WNW           44.0        NNW  ...    24.3         No            No   \n",
              "2         WSW           46.0          W  ...    23.2         No            No   \n",
              "3          NE           24.0         SE  ...    26.5         No            No   \n",
              "4           W           41.0        ENE  ...    29.7         No            No   \n",
              "\n",
              "   year  month     month_sin  month_cos  day   day_sin   day_cos  \n",
              "0  2008     12 -2.449294e-16        1.0    1  0.201299  0.979530  \n",
              "1  2008     12 -2.449294e-16        1.0    2  0.394356  0.918958  \n",
              "2  2008     12 -2.449294e-16        1.0    3  0.571268  0.820763  \n",
              "3  2008     12 -2.449294e-16        1.0    4  0.724793  0.688967  \n",
              "4  2008     12 -2.449294e-16        1.0    5  0.848644  0.528964  \n",
              "\n",
              "[5 rows x 30 columns]"
            ],
            "text/html": [
              "\n",
              "  <div id=\"df-1178508f-7f50-46e9-9d19-5422933fb2a0\">\n",
              "    <div class=\"colab-df-container\">\n",
              "      <div>\n",
              "<style scoped>\n",
              "    .dataframe tbody tr th:only-of-type {\n",
              "        vertical-align: middle;\n",
              "    }\n",
              "\n",
              "    .dataframe tbody tr th {\n",
              "        vertical-align: top;\n",
              "    }\n",
              "\n",
              "    .dataframe thead th {\n",
              "        text-align: right;\n",
              "    }\n",
              "</style>\n",
              "<table border=\"1\" class=\"dataframe\">\n",
              "  <thead>\n",
              "    <tr style=\"text-align: right;\">\n",
              "      <th></th>\n",
              "      <th>Date</th>\n",
              "      <th>Location</th>\n",
              "      <th>MinTemp</th>\n",
              "      <th>MaxTemp</th>\n",
              "      <th>Rainfall</th>\n",
              "      <th>Evaporation</th>\n",
              "      <th>Sunshine</th>\n",
              "      <th>WindGustDir</th>\n",
              "      <th>WindGustSpeed</th>\n",
              "      <th>WindDir9am</th>\n",
              "      <th>...</th>\n",
              "      <th>Temp3pm</th>\n",
              "      <th>RainToday</th>\n",
              "      <th>RainTomorrow</th>\n",
              "      <th>year</th>\n",
              "      <th>month</th>\n",
              "      <th>month_sin</th>\n",
              "      <th>month_cos</th>\n",
              "      <th>day</th>\n",
              "      <th>day_sin</th>\n",
              "      <th>day_cos</th>\n",
              "    </tr>\n",
              "  </thead>\n",
              "  <tbody>\n",
              "    <tr>\n",
              "      <th>0</th>\n",
              "      <td>2008-12-01</td>\n",
              "      <td>Albury</td>\n",
              "      <td>13.4</td>\n",
              "      <td>22.9</td>\n",
              "      <td>0.6</td>\n",
              "      <td>NaN</td>\n",
              "      <td>NaN</td>\n",
              "      <td>W</td>\n",
              "      <td>44.0</td>\n",
              "      <td>W</td>\n",
              "      <td>...</td>\n",
              "      <td>21.8</td>\n",
              "      <td>No</td>\n",
              "      <td>No</td>\n",
              "      <td>2008</td>\n",
              "      <td>12</td>\n",
              "      <td>-2.449294e-16</td>\n",
              "      <td>1.0</td>\n",
              "      <td>1</td>\n",
              "      <td>0.201299</td>\n",
              "      <td>0.979530</td>\n",
              "    </tr>\n",
              "    <tr>\n",
              "      <th>1</th>\n",
              "      <td>2008-12-02</td>\n",
              "      <td>Albury</td>\n",
              "      <td>7.4</td>\n",
              "      <td>25.1</td>\n",
              "      <td>0.0</td>\n",
              "      <td>NaN</td>\n",
              "      <td>NaN</td>\n",
              "      <td>WNW</td>\n",
              "      <td>44.0</td>\n",
              "      <td>NNW</td>\n",
              "      <td>...</td>\n",
              "      <td>24.3</td>\n",
              "      <td>No</td>\n",
              "      <td>No</td>\n",
              "      <td>2008</td>\n",
              "      <td>12</td>\n",
              "      <td>-2.449294e-16</td>\n",
              "      <td>1.0</td>\n",
              "      <td>2</td>\n",
              "      <td>0.394356</td>\n",
              "      <td>0.918958</td>\n",
              "    </tr>\n",
              "    <tr>\n",
              "      <th>2</th>\n",
              "      <td>2008-12-03</td>\n",
              "      <td>Albury</td>\n",
              "      <td>12.9</td>\n",
              "      <td>25.7</td>\n",
              "      <td>0.0</td>\n",
              "      <td>NaN</td>\n",
              "      <td>NaN</td>\n",
              "      <td>WSW</td>\n",
              "      <td>46.0</td>\n",
              "      <td>W</td>\n",
              "      <td>...</td>\n",
              "      <td>23.2</td>\n",
              "      <td>No</td>\n",
              "      <td>No</td>\n",
              "      <td>2008</td>\n",
              "      <td>12</td>\n",
              "      <td>-2.449294e-16</td>\n",
              "      <td>1.0</td>\n",
              "      <td>3</td>\n",
              "      <td>0.571268</td>\n",
              "      <td>0.820763</td>\n",
              "    </tr>\n",
              "    <tr>\n",
              "      <th>3</th>\n",
              "      <td>2008-12-04</td>\n",
              "      <td>Albury</td>\n",
              "      <td>9.2</td>\n",
              "      <td>28.0</td>\n",
              "      <td>0.0</td>\n",
              "      <td>NaN</td>\n",
              "      <td>NaN</td>\n",
              "      <td>NE</td>\n",
              "      <td>24.0</td>\n",
              "      <td>SE</td>\n",
              "      <td>...</td>\n",
              "      <td>26.5</td>\n",
              "      <td>No</td>\n",
              "      <td>No</td>\n",
              "      <td>2008</td>\n",
              "      <td>12</td>\n",
              "      <td>-2.449294e-16</td>\n",
              "      <td>1.0</td>\n",
              "      <td>4</td>\n",
              "      <td>0.724793</td>\n",
              "      <td>0.688967</td>\n",
              "    </tr>\n",
              "    <tr>\n",
              "      <th>4</th>\n",
              "      <td>2008-12-05</td>\n",
              "      <td>Albury</td>\n",
              "      <td>17.5</td>\n",
              "      <td>32.3</td>\n",
              "      <td>1.0</td>\n",
              "      <td>NaN</td>\n",
              "      <td>NaN</td>\n",
              "      <td>W</td>\n",
              "      <td>41.0</td>\n",
              "      <td>ENE</td>\n",
              "      <td>...</td>\n",
              "      <td>29.7</td>\n",
              "      <td>No</td>\n",
              "      <td>No</td>\n",
              "      <td>2008</td>\n",
              "      <td>12</td>\n",
              "      <td>-2.449294e-16</td>\n",
              "      <td>1.0</td>\n",
              "      <td>5</td>\n",
              "      <td>0.848644</td>\n",
              "      <td>0.528964</td>\n",
              "    </tr>\n",
              "  </tbody>\n",
              "</table>\n",
              "<p>5 rows × 30 columns</p>\n",
              "</div>\n",
              "      <button class=\"colab-df-convert\" onclick=\"convertToInteractive('df-1178508f-7f50-46e9-9d19-5422933fb2a0')\"\n",
              "              title=\"Convert this dataframe to an interactive table.\"\n",
              "              style=\"display:none;\">\n",
              "        \n",
              "  <svg xmlns=\"http://www.w3.org/2000/svg\" height=\"24px\"viewBox=\"0 0 24 24\"\n",
              "       width=\"24px\">\n",
              "    <path d=\"M0 0h24v24H0V0z\" fill=\"none\"/>\n",
              "    <path d=\"M18.56 5.44l.94 2.06.94-2.06 2.06-.94-2.06-.94-.94-2.06-.94 2.06-2.06.94zm-11 1L8.5 8.5l.94-2.06 2.06-.94-2.06-.94L8.5 2.5l-.94 2.06-2.06.94zm10 10l.94 2.06.94-2.06 2.06-.94-2.06-.94-.94-2.06-.94 2.06-2.06.94z\"/><path d=\"M17.41 7.96l-1.37-1.37c-.4-.4-.92-.59-1.43-.59-.52 0-1.04.2-1.43.59L10.3 9.45l-7.72 7.72c-.78.78-.78 2.05 0 2.83L4 21.41c.39.39.9.59 1.41.59.51 0 1.02-.2 1.41-.59l7.78-7.78 2.81-2.81c.8-.78.8-2.07 0-2.86zM5.41 20L4 18.59l7.72-7.72 1.47 1.35L5.41 20z\"/>\n",
              "  </svg>\n",
              "      </button>\n",
              "      \n",
              "  <style>\n",
              "    .colab-df-container {\n",
              "      display:flex;\n",
              "      flex-wrap:wrap;\n",
              "      gap: 12px;\n",
              "    }\n",
              "\n",
              "    .colab-df-convert {\n",
              "      background-color: #E8F0FE;\n",
              "      border: none;\n",
              "      border-radius: 50%;\n",
              "      cursor: pointer;\n",
              "      display: none;\n",
              "      fill: #1967D2;\n",
              "      height: 32px;\n",
              "      padding: 0 0 0 0;\n",
              "      width: 32px;\n",
              "    }\n",
              "\n",
              "    .colab-df-convert:hover {\n",
              "      background-color: #E2EBFA;\n",
              "      box-shadow: 0px 1px 2px rgba(60, 64, 67, 0.3), 0px 1px 3px 1px rgba(60, 64, 67, 0.15);\n",
              "      fill: #174EA6;\n",
              "    }\n",
              "\n",
              "    [theme=dark] .colab-df-convert {\n",
              "      background-color: #3B4455;\n",
              "      fill: #D2E3FC;\n",
              "    }\n",
              "\n",
              "    [theme=dark] .colab-df-convert:hover {\n",
              "      background-color: #434B5C;\n",
              "      box-shadow: 0px 1px 3px 1px rgba(0, 0, 0, 0.15);\n",
              "      filter: drop-shadow(0px 1px 2px rgba(0, 0, 0, 0.3));\n",
              "      fill: #FFFFFF;\n",
              "    }\n",
              "  </style>\n",
              "\n",
              "      <script>\n",
              "        const buttonEl =\n",
              "          document.querySelector('#df-1178508f-7f50-46e9-9d19-5422933fb2a0 button.colab-df-convert');\n",
              "        buttonEl.style.display =\n",
              "          google.colab.kernel.accessAllowed ? 'block' : 'none';\n",
              "\n",
              "        async function convertToInteractive(key) {\n",
              "          const element = document.querySelector('#df-1178508f-7f50-46e9-9d19-5422933fb2a0');\n",
              "          const dataTable =\n",
              "            await google.colab.kernel.invokeFunction('convertToInteractive',\n",
              "                                                     [key], {});\n",
              "          if (!dataTable) return;\n",
              "\n",
              "          const docLinkHtml = 'Like what you see? Visit the ' +\n",
              "            '<a target=\"_blank\" href=https://colab.research.google.com/notebooks/data_table.ipynb>data table notebook</a>'\n",
              "            + ' to learn more about interactive tables.';\n",
              "          element.innerHTML = '';\n",
              "          dataTable['output_type'] = 'display_data';\n",
              "          await google.colab.output.renderOutput(dataTable, element);\n",
              "          const docLink = document.createElement('div');\n",
              "          docLink.innerHTML = docLinkHtml;\n",
              "          element.appendChild(docLink);\n",
              "        }\n",
              "      </script>\n",
              "    </div>\n",
              "  </div>\n",
              "  "
            ]
          },
          "metadata": {},
          "execution_count": 17
        }
      ]
    },
    {
      "cell_type": "code",
      "source": [
        "section = df[:360] \n",
        "tm = section[\"day\"].plot(color=\"#C2C4E2\")\n",
        "tm.set_title(\"Distribution Of Days Over Year\")\n",
        "tm.set_ylabel(\"Days In month\")\n",
        "tm.set_xlabel(\"Days In Year\")"
      ],
      "metadata": {
        "colab": {
          "base_uri": "https://localhost:8080/",
          "height": 312
        },
        "id": "ZqtPPHGnI8eT",
        "outputId": "2d450ec7-64e7-4275-be4e-6c1e8cfc1d9d"
      },
      "execution_count": 19,
      "outputs": [
        {
          "output_type": "execute_result",
          "data": {
            "text/plain": [
              "Text(0.5, 0, 'Days In Year')"
            ]
          },
          "metadata": {},
          "execution_count": 19
        },
        {
          "output_type": "display_data",
          "data": {
            "text/plain": [
              "<Figure size 432x288 with 1 Axes>"
            ],
            "image/png": "[encoded data removed]"
          },
          "metadata": {
            "needs_background": "light"
          }
        }
      ]
    },
    {
      "cell_type": "code",
      "source": [
        "cyclic_month = sns.scatterplot(x=\"month_sin\",y=\"month_cos\",data=df, color=\"#C2C4E2\")\n",
        "cyclic_month.set_title(\"Cyclic Encoding of Month\")\n",
        "cyclic_month.set_ylabel(\"Cosine Encoded Months\")\n",
        "cyclic_month.set_xlabel(\"Sine Encoded Months\")"
      ],
      "metadata": {
        "colab": {
          "base_uri": "https://localhost:8080/",
          "height": 312
        },
        "id": "JrFhAC0RJGwS",
        "outputId": "c6f627f4-5b3c-418a-d4a1-56cf44b61028"
      },
      "execution_count": 21,
      "outputs": [
        {
          "output_type": "execute_result",
          "data": {
            "text/plain": [
              "Text(0.5, 0, 'Sine Encoded Months')"
            ]
          },
          "metadata": {},
          "execution_count": 21
        },
        {
          "output_type": "display_data",
          "data": {
            "text/plain": [
              "<Figure size 432x288 with 1 Axes>"
            ],
            "image/png": "[encoded data removed]"
          },
          "metadata": {
            "needs_background": "light"
          }
        }
      ]
    },
    {
      "cell_type": "code",
      "source": [
        "cyclic_day = sns.scatterplot(x='day_sin',y='day_cos',data=df, color=\"#C2C4E2\")\n",
        "cyclic_day.set_title(\"Cyclic Encoding of Day\")\n",
        "cyclic_day.set_ylabel(\"Cosine Encoded Day\")\n",
        "cyclic_day.set_xlabel(\"Sine Encoded Day\")"
      ],
      "metadata": {
        "colab": {
          "base_uri": "https://localhost:8080/",
          "height": 312
        },
        "id": "HBFSGCaoJQM1",
        "outputId": "d90a0d4b-83fa-4444-ff57-c0f1237b815d"
      },
      "execution_count": 22,
      "outputs": [
        {
          "output_type": "execute_result",
          "data": {
            "text/plain": [
              "Text(0.5, 0, 'Sine Encoded Day')"
            ]
          },
          "metadata": {},
          "execution_count": 22
        },
        {
          "output_type": "display_data",
          "data": {
            "text/plain": [
              "<Figure size 432x288 with 1 Axes>"
            ],
            "image/png": "[encoded data removed]"
          },
          "metadata": {
            "needs_background": "light"
          }
        }
      ]
    },
    {
      "cell_type": "code",
      "source": [
        "#Filling missing values with mode of the column value"
      ],
      "metadata": {
        "id": "eoI4KUi4JYjq"
      },
      "execution_count": 23,
      "outputs": []
    },
    {
      "cell_type": "code",
      "source": [
        "#Get list of categorical variables\n",
        "s = (df.dtypes == \"object\")\n",
        "object_cols = list(s[s].index)\n",
        "\n",
        "print(\"Categorical variables:\")\n",
        "print(object_cols)"
      ],
      "metadata": {
        "colab": {
          "base_uri": "https://localhost:8080/"
        },
        "id": "fbdoe7W2KHbA",
        "outputId": "2347a44c-3755-4582-d034-a691a82b6a7a"
      },
      "execution_count": 24,
      "outputs": [
        {
          "output_type": "stream",
          "name": "stdout",
          "text": [
            "Categorical variables:\n",
            "['Location', 'WindGustDir', 'WindDir9am', 'WindDir3pm', 'RainToday', 'RainTomorrow']\n"
          ]
        }
      ]
    },
    {
      "cell_type": "code",
      "source": [
        "# Missing values in categorical variables\n",
        "\n",
        "for i in object_cols:\n",
        "    print(i, df[i].isnull().sum())"
      ],
      "metadata": {
        "colab": {
          "base_uri": "https://localhost:8080/"
        },
        "id": "szsvA9YgKORl",
        "outputId": "7fe0b20a-ab7f-42c9-81a5-799124e095da"
      },
      "execution_count": 25,
      "outputs": [
        {
          "output_type": "stream",
          "name": "stdout",
          "text": [
            "Location 0\n",
            "WindGustDir 10326\n",
            "WindDir9am 10566\n",
            "WindDir3pm 4228\n",
            "RainToday 3261\n",
            "RainTomorrow 3267\n"
          ]
        }
      ]
    },
    {
      "cell_type": "code",
      "source": [
        "# Filling missing values with mode of the column in value\n",
        "\n",
        "for i in object_cols:\n",
        "    df[i].fillna(df[i].mode()[0], inplace=True)"
      ],
      "metadata": {
        "id": "Etdw13NVKT39"
      },
      "execution_count": 28,
      "outputs": []
    },
    {
      "cell_type": "code",
      "source": [
        "#Numerical variables\n",
        "\n",
        "#Filling missing values with median of the column value"
      ],
      "metadata": {
        "id": "fZ9E1q3QKX05"
      },
      "execution_count": 29,
      "outputs": []
    },
    {
      "cell_type": "code",
      "source": [
        "# Get list of neumeric variables\n",
        "t = (df.dtypes == \"float64\")\n",
        "num_cols = list(t[t].index)\n",
        "\n",
        "print(\"Neumeric variables:\")\n",
        "print(num_cols)"
      ],
      "metadata": {
        "colab": {
          "base_uri": "https://localhost:8080/"
        },
        "id": "fvR3LKhEKh8r",
        "outputId": "e6e447b6-6790-42f0-a602-a420272508fc"
      },
      "execution_count": 30,
      "outputs": [
        {
          "output_type": "stream",
          "name": "stdout",
          "text": [
            "Neumeric variables:\n",
            "['MinTemp', 'MaxTemp', 'Rainfall', 'Evaporation', 'Sunshine', 'WindGustSpeed', 'WindSpeed9am', 'WindSpeed3pm', 'Humidity9am', 'Humidity3pm', 'Pressure9am', 'Pressure3pm', 'Cloud9am', 'Cloud3pm', 'Temp9am', 'Temp3pm', 'month_sin', 'month_cos', 'day_sin', 'day_cos']\n"
          ]
        }
      ]
    },
    {
      "cell_type": "code",
      "source": [
        "# Missing values in numeric variables\n",
        "\n",
        "for i in num_cols:\n",
        "    print(i, df[i].isnull().sum())"
      ],
      "metadata": {
        "colab": {
          "base_uri": "https://localhost:8080/"
        },
        "id": "VleSIVpMKniQ",
        "outputId": "c63a14be-c9a2-40f8-86f3-171426e33de0"
      },
      "execution_count": 32,
      "outputs": [
        {
          "output_type": "stream",
          "name": "stdout",
          "text": [
            "MinTemp 1485\n",
            "MaxTemp 1261\n",
            "Rainfall 3261\n",
            "Evaporation 62790\n",
            "Sunshine 69835\n",
            "WindGustSpeed 10263\n",
            "WindSpeed9am 1767\n",
            "WindSpeed3pm 3062\n",
            "Humidity9am 2654\n",
            "Humidity3pm 4507\n",
            "Pressure9am 15065\n",
            "Pressure3pm 15028\n",
            "Cloud9am 55888\n",
            "Cloud3pm 59358\n",
            "Temp9am 1767\n",
            "Temp3pm 3609\n",
            "month_sin 0\n",
            "month_cos 0\n",
            "day_sin 0\n",
            "day_cos 0\n"
          ]
        }
      ]
    },
    {
      "cell_type": "code",
      "source": [
        "# Filling missing values with median of the column in value\n",
        "\n",
        "for i in num_cols:\n",
        "    df[i].fillna(df[i].median(), inplace=True)\n",
        "    \n",
        "df.info()"
      ],
      "metadata": {
        "colab": {
          "base_uri": "https://localhost:8080/"
        },
        "id": "KLonwTIfKrHd",
        "outputId": "0ced7e33-b1db-46ee-b240-3e48305613ca"
      },
      "execution_count": 35,
      "outputs": [
        {
          "output_type": "stream",
          "name": "stdout",
          "text": [
            "<class 'pandas.core.frame.DataFrame'>\n",
            "RangeIndex: 145460 entries, 0 to 145459\n",
            "Data columns (total 30 columns):\n",
            " #   Column         Non-Null Count   Dtype         \n",
            "---  ------         --------------   -----         \n",
            " 0   Date           145460 non-null  datetime64[ns]\n",
            " 1   Location       145460 non-null  object        \n",
            " 2   MinTemp        145460 non-null  float64       \n",
            " 3   MaxTemp        145460 non-null  float64       \n",
            " 4   Rainfall       145460 non-null  float64       \n",
            " 5   Evaporation    145460 non-null  float64       \n",
            " 6   Sunshine       145460 non-null  float64       \n",
            " 7   WindGustDir    145460 non-null  object        \n",
            " 8   WindGustSpeed  145460 non-null  float64       \n",
            " 9   WindDir9am     145460 non-null  object        \n",
            " 10  WindDir3pm     145460 non-null  object        \n",
            " 11  WindSpeed9am   145460 non-null  float64       \n",
            " 12  WindSpeed3pm   145460 non-null  float64       \n",
            " 13  Humidity9am    145460 non-null  float64       \n",
            " 14  Humidity3pm    145460 non-null  float64       \n",
            " 15  Pressure9am    145460 non-null  float64       \n",
            " 16  Pressure3pm    145460 non-null  float64       \n",
            " 17  Cloud9am       145460 non-null  float64       \n",
            " 18  Cloud3pm       145460 non-null  float64       \n",
            " 19  Temp9am        145460 non-null  float64       \n",
            " 20  Temp3pm        145460 non-null  float64       \n",
            " 21  RainToday      145460 non-null  object        \n",
            " 22  RainTomorrow   145460 non-null  object        \n",
            " 23  year           145460 non-null  int64         \n",
            " 24  month          145460 non-null  int64         \n",
            " 25  month_sin      145460 non-null  float64       \n",
            " 26  month_cos      145460 non-null  float64       \n",
            " 27  day            145460 non-null  int64         \n",
            " 28  day_sin        145460 non-null  float64       \n",
            " 29  day_cos        145460 non-null  float64       \n",
            "dtypes: datetime64[ns](1), float64(20), int64(3), object(6)\n",
            "memory usage: 33.3+ MB\n"
          ]
        }
      ]
    },
    {
      "cell_type": "code",
      "source": [
        "#DATA PREPROCESSING"
      ],
      "metadata": {
        "id": "E6dd98FQKymy"
      },
      "execution_count": 36,
      "outputs": []
    },
    {
      "cell_type": "code",
      "source": [
        "#Label encoding the catagorical varable\n",
        "\n",
        "# Apply label encoder to each column with categorical data\n",
        "label_encoder = LabelEncoder()\n",
        "for i in object_cols:\n",
        "    df[i] = label_encoder.fit_transform(df[i])\n",
        "    \n",
        "df.info()"
      ],
      "metadata": {
        "colab": {
          "base_uri": "https://localhost:8080/"
        },
        "id": "0rG_cutHK-NI",
        "outputId": "e06339cf-5c0f-48dc-dafd-b3fcf1b20c9c"
      },
      "execution_count": 38,
      "outputs": [
        {
          "output_type": "stream",
          "name": "stdout",
          "text": [
            "<class 'pandas.core.frame.DataFrame'>\n",
            "RangeIndex: 145460 entries, 0 to 145459\n",
            "Data columns (total 30 columns):\n",
            " #   Column         Non-Null Count   Dtype         \n",
            "---  ------         --------------   -----         \n",
            " 0   Date           145460 non-null  datetime64[ns]\n",
            " 1   Location       145460 non-null  int64         \n",
            " 2   MinTemp        145460 non-null  float64       \n",
            " 3   MaxTemp        145460 non-null  float64       \n",
            " 4   Rainfall       145460 non-null  float64       \n",
            " 5   Evaporation    145460 non-null  float64       \n",
            " 6   Sunshine       145460 non-null  float64       \n",
            " 7   WindGustDir    145460 non-null  int64         \n",
            " 8   WindGustSpeed  145460 non-null  float64       \n",
            " 9   WindDir9am     145460 non-null  int64         \n",
            " 10  WindDir3pm     145460 non-null  int64         \n",
            " 11  WindSpeed9am   145460 non-null  float64       \n",
            " 12  WindSpeed3pm   145460 non-null  float64       \n",
            " 13  Humidity9am    145460 non-null  float64       \n",
            " 14  Humidity3pm    145460 non-null  float64       \n",
            " 15  Pressure9am    145460 non-null  float64       \n",
            " 16  Pressure3pm    145460 non-null  float64       \n",
            " 17  Cloud9am       145460 non-null  float64       \n",
            " 18  Cloud3pm       145460 non-null  float64       \n",
            " 19  Temp9am        145460 non-null  float64       \n",
            " 20  Temp3pm        145460 non-null  float64       \n",
            " 21  RainToday      145460 non-null  int64         \n",
            " 22  RainTomorrow   145460 non-null  int64         \n",
            " 23  year           145460 non-null  int64         \n",
            " 24  month          145460 non-null  int64         \n",
            " 25  month_sin      145460 non-null  float64       \n",
            " 26  month_cos      145460 non-null  float64       \n",
            " 27  day            145460 non-null  int64         \n",
            " 28  day_sin        145460 non-null  float64       \n",
            " 29  day_cos        145460 non-null  float64       \n",
            "dtypes: datetime64[ns](1), float64(20), int64(9)\n",
            "memory usage: 33.3 MB\n"
          ]
        }
      ]
    },
    {
      "cell_type": "code",
      "source": [
        "# Prepairing attributes of scale data"
      ],
      "metadata": {
        "id": "88UKJg6ZLFsU"
      },
      "execution_count": 39,
      "outputs": []
    },
    {
      "cell_type": "code",
      "source": [
        "features = df.drop(['RainTomorrow', 'Date','day', 'month'], axis=1) # dropping target and extra columns\n",
        "\n",
        "target = df['RainTomorrow']\n",
        "\n",
        "#Set up a standard scaler for the features\n",
        "col_names = list(features.columns)\n",
        "s_scaler = preprocessing.StandardScaler()\n",
        "features = s_scaler.fit_transform(features)\n",
        "features = pd.DataFrame(features, columns=col_names) \n",
        "\n",
        "features.describe().T"
      ],
      "metadata": {
        "colab": {
          "base_uri": "https://localhost:8080/",
          "height": 865
        },
        "id": "sVm97uGNLNVF",
        "outputId": "7cc92e3e-cb79-46a7-fd38-64023e374cea"
      },
      "execution_count": 40,
      "outputs": [
        {
          "output_type": "execute_result",
          "data": {
            "text/plain": [
              "                  count          mean       std       min       25%       50%  \\\n",
              "Location       145460.0  7.815677e-18  1.000003 -1.672228 -0.899139  0.014511   \n",
              "MinTemp        145460.0 -4.501830e-16  1.000003 -3.250525 -0.705659 -0.030170   \n",
              "MaxTemp        145460.0  3.001220e-16  1.000003 -3.952405 -0.735852 -0.086898   \n",
              "Rainfall       145460.0  7.815677e-18  1.000003 -0.275097 -0.275097 -0.275097   \n",
              "Evaporation    145460.0 -3.282584e-17  1.000003 -1.629472 -0.371139 -0.119472   \n",
              "Sunshine       145460.0 -5.424080e-16  1.000003 -2.897217  0.076188  0.148710   \n",
              "WindGustDir    145460.0  6.252542e-18  1.000003 -1.724209 -0.872075  0.193094   \n",
              "WindGustSpeed  145460.0  1.824961e-16  1.000003 -2.588407 -0.683048 -0.073333   \n",
              "WindDir9am     145460.0  7.190423e-17  1.000003 -1.550000 -0.885669  0.000105   \n",
              "WindDir3pm     145460.0  8.284618e-17  1.000003 -1.718521 -0.837098  0.044324   \n",
              "WindSpeed9am   145460.0  5.627287e-17  1.000003 -1.583291 -0.793380 -0.116314   \n",
              "WindSpeed3pm   145460.0  6.565169e-17  1.000003 -2.141841 -0.650449  0.037886   \n",
              "Humidity9am    145460.0  2.250915e-16  1.000003 -3.654212 -0.631189  0.058273   \n",
              "Humidity3pm    145460.0 -8.440931e-17  1.000003 -2.518329 -0.710918  0.021816   \n",
              "Pressure9am    145460.0 -4.314254e-16  1.000003 -5.520544 -0.616005 -0.006653   \n",
              "Pressure3pm    145460.0  5.027043e-15  1.000003 -5.724832 -0.622769 -0.007520   \n",
              "Cloud9am       145460.0 -1.016038e-16  1.000003 -2.042425 -0.727490  0.149133   \n",
              "Cloud3pm       145460.0  7.346736e-17  1.000003 -2.235619 -0.336969  0.137693   \n",
              "Temp9am        145460.0  7.503050e-17  1.000003 -3.750358 -0.726764 -0.044517   \n",
              "Temp3pm        145460.0 -6.877796e-17  1.000003 -3.951301 -0.725322 -0.083046   \n",
              "RainToday      145460.0 -8.988029e-18  1.000003 -0.529795 -0.529795 -0.529795   \n",
              "year           145460.0  2.080221e-14  1.000003 -2.273637 -0.697391  0.090732   \n",
              "month_sin      145460.0 -4.884798e-17  1.000003 -1.434333 -0.725379 -0.016425   \n",
              "month_cos      145460.0 -2.745257e-17  1.000003 -1.388032 -1.198979  0.023080   \n",
              "day_sin        145460.0  3.565903e-18  1.000003 -1.403140 -1.019170 -0.003198   \n",
              "day_cos        145460.0 -1.413538e-17  1.000003 -1.392587 -1.055520 -0.044639   \n",
              "\n",
              "                    75%        max  \n",
              "Location       0.857881   1.701250  \n",
              "MinTemp        0.723865   3.410112  \n",
              "MaxTemp        0.703133   3.510563  \n",
              "Rainfall      -0.203581  43.945571  \n",
              "Evaporation    0.006361  43.985108  \n",
              "Sunshine       0.257494   2.360634  \n",
              "WindGustDir    1.045228   1.471296  \n",
              "WindGustSpeed  0.460168   7.243246  \n",
              "WindDir9am     0.885879   1.771653  \n",
              "WindDir3pm     0.925747   1.586813  \n",
              "WindSpeed9am   0.560752  13.086472  \n",
              "WindSpeed3pm   0.611499   7.839016  \n",
              "Humidity9am    0.747734   1.649338  \n",
              "Humidity3pm    0.656852   2.366565  \n",
              "Pressure9am    0.617561   3.471111  \n",
              "Pressure3pm    0.622735   3.653960  \n",
              "Cloud9am       0.587445   1.902380  \n",
              "Cloud3pm       0.612356   2.036343  \n",
              "Temp9am        0.699753   3.599302  \n",
              "Temp3pm        0.661411   3.653834  \n",
              "RainToday     -0.529795   1.887521  \n",
              "year           0.878855   1.666978  \n",
              "month_sin      0.692529   1.401483  \n",
              "month_cos      0.728636   1.434192  \n",
              "day_sin        1.012774   1.396744  \n",
              "day_cos        1.011221   1.455246  "
            ],
            "text/html": [
              "\n",
              "  <div id=\"df-82045cb7-926c-4179-9587-e162d16249ca\">\n",
              "    <div class=\"colab-df-container\">\n",
              "      <div>\n",
              "<style scoped>\n",
              "    .dataframe tbody tr th:only-of-type {\n",
              "        vertical-align: middle;\n",
              "    }\n",
              "\n",
              "    .dataframe tbody tr th {\n",
              "        vertical-align: top;\n",
              "    }\n",
              "\n",
              "    .dataframe thead th {\n",
              "        text-align: right;\n",
              "    }\n",
              "</style>\n",
              "<table border=\"1\" class=\"dataframe\">\n",
              "  <thead>\n",
              "    <tr style=\"text-align: right;\">\n",
              "      <th></th>\n",
              "      <th>count</th>\n",
              "      <th>mean</th>\n",
              "      <th>std</th>\n",
              "      <th>min</th>\n",
              "      <th>25%</th>\n",
              "      <th>50%</th>\n",
              "      <th>75%</th>\n",
              "      <th>max</th>\n",
              "    </tr>\n",
              "  </thead>\n",
              "  <tbody>\n",
              "    <tr>\n",
              "      <th>Location</th>\n",
              "      <td>145460.0</td>\n",
              "      <td>7.815677e-18</td>\n",
              "      <td>1.000003</td>\n",
              "      <td>-1.672228</td>\n",
              "      <td>-0.899139</td>\n",
              "      <td>0.014511</td>\n",
              "      <td>0.857881</td>\n",
              "      <td>1.701250</td>\n",
              "    </tr>\n",
              "    <tr>\n",
              "      <th>MinTemp</th>\n",
              "      <td>145460.0</td>\n",
              "      <td>-4.501830e-16</td>\n",
              "      <td>1.000003</td>\n",
              "      <td>-3.250525</td>\n",
              "      <td>-0.705659</td>\n",
              "      <td>-0.030170</td>\n",
              "      <td>0.723865</td>\n",
              "      <td>3.410112</td>\n",
              "    </tr>\n",
              "    <tr>\n",
              "      <th>MaxTemp</th>\n",
              "      <td>145460.0</td>\n",
              "      <td>3.001220e-16</td>\n",
              "      <td>1.000003</td>\n",
              "      <td>-3.952405</td>\n",
              "      <td>-0.735852</td>\n",
              "      <td>-0.086898</td>\n",
              "      <td>0.703133</td>\n",
              "      <td>3.510563</td>\n",
              "    </tr>\n",
              "    <tr>\n",
              "      <th>Rainfall</th>\n",
              "      <td>145460.0</td>\n",
              "      <td>7.815677e-18</td>\n",
              "      <td>1.000003</td>\n",
              "      <td>-0.275097</td>\n",
              "      <td>-0.275097</td>\n",
              "      <td>-0.275097</td>\n",
              "      <td>-0.203581</td>\n",
              "      <td>43.945571</td>\n",
              "    </tr>\n",
              "    <tr>\n",
              "      <th>Evaporation</th>\n",
              "      <td>145460.0</td>\n",
              "      <td>-3.282584e-17</td>\n",
              "      <td>1.000003</td>\n",
              "      <td>-1.629472</td>\n",
              "      <td>-0.371139</td>\n",
              "      <td>-0.119472</td>\n",
              "      <td>0.006361</td>\n",
              "      <td>43.985108</td>\n",
              "    </tr>\n",
              "    <tr>\n",
              "      <th>Sunshine</th>\n",
              "      <td>145460.0</td>\n",
              "      <td>-5.424080e-16</td>\n",
              "      <td>1.000003</td>\n",
              "      <td>-2.897217</td>\n",
              "      <td>0.076188</td>\n",
              "      <td>0.148710</td>\n",
              "      <td>0.257494</td>\n",
              "      <td>2.360634</td>\n",
              "    </tr>\n",
              "    <tr>\n",
              "      <th>WindGustDir</th>\n",
              "      <td>145460.0</td>\n",
              "      <td>6.252542e-18</td>\n",
              "      <td>1.000003</td>\n",
              "      <td>-1.724209</td>\n",
              "      <td>-0.872075</td>\n",
              "      <td>0.193094</td>\n",
              "      <td>1.045228</td>\n",
              "      <td>1.471296</td>\n",
              "    </tr>\n",
              "    <tr>\n",
              "      <th>WindGustSpeed</th>\n",
              "      <td>145460.0</td>\n",
              "      <td>1.824961e-16</td>\n",
              "      <td>1.000003</td>\n",
              "      <td>-2.588407</td>\n",
              "      <td>-0.683048</td>\n",
              "      <td>-0.073333</td>\n",
              "      <td>0.460168</td>\n",
              "      <td>7.243246</td>\n",
              "    </tr>\n",
              "    <tr>\n",
              "      <th>WindDir9am</th>\n",
              "      <td>145460.0</td>\n",
              "      <td>7.190423e-17</td>\n",
              "      <td>1.000003</td>\n",
              "      <td>-1.550000</td>\n",
              "      <td>-0.885669</td>\n",
              "      <td>0.000105</td>\n",
              "      <td>0.885879</td>\n",
              "      <td>1.771653</td>\n",
              "    </tr>\n",
              "    <tr>\n",
              "      <th>WindDir3pm</th>\n",
              "      <td>145460.0</td>\n",
              "      <td>8.284618e-17</td>\n",
              "      <td>1.000003</td>\n",
              "      <td>-1.718521</td>\n",
              "      <td>-0.837098</td>\n",
              "      <td>0.044324</td>\n",
              "      <td>0.925747</td>\n",
              "      <td>1.586813</td>\n",
              "    </tr>\n",
              "    <tr>\n",
              "      <th>WindSpeed9am</th>\n",
              "      <td>145460.0</td>\n",
              "      <td>5.627287e-17</td>\n",
              "      <td>1.000003</td>\n",
              "      <td>-1.583291</td>\n",
              "      <td>-0.793380</td>\n",
              "      <td>-0.116314</td>\n",
              "      <td>0.560752</td>\n",
              "      <td>13.086472</td>\n",
              "    </tr>\n",
              "    <tr>\n",
              "      <th>WindSpeed3pm</th>\n",
              "      <td>145460.0</td>\n",
              "      <td>6.565169e-17</td>\n",
              "      <td>1.000003</td>\n",
              "      <td>-2.141841</td>\n",
              "      <td>-0.650449</td>\n",
              "      <td>0.037886</td>\n",
              "      <td>0.611499</td>\n",
              "      <td>7.839016</td>\n",
              "    </tr>\n",
              "    <tr>\n",
              "      <th>Humidity9am</th>\n",
              "      <td>145460.0</td>\n",
              "      <td>2.250915e-16</td>\n",
              "      <td>1.000003</td>\n",
              "      <td>-3.654212</td>\n",
              "      <td>-0.631189</td>\n",
              "      <td>0.058273</td>\n",
              "      <td>0.747734</td>\n",
              "      <td>1.649338</td>\n",
              "    </tr>\n",
              "    <tr>\n",
              "      <th>Humidity3pm</th>\n",
              "      <td>145460.0</td>\n",
              "      <td>-8.440931e-17</td>\n",
              "      <td>1.000003</td>\n",
              "      <td>-2.518329</td>\n",
              "      <td>-0.710918</td>\n",
              "      <td>0.021816</td>\n",
              "      <td>0.656852</td>\n",
              "      <td>2.366565</td>\n",
              "    </tr>\n",
              "    <tr>\n",
              "      <th>Pressure9am</th>\n",
              "      <td>145460.0</td>\n",
              "      <td>-4.314254e-16</td>\n",
              "      <td>1.000003</td>\n",
              "      <td>-5.520544</td>\n",
              "      <td>-0.616005</td>\n",
              "      <td>-0.006653</td>\n",
              "      <td>0.617561</td>\n",
              "      <td>3.471111</td>\n",
              "    </tr>\n",
              "    <tr>\n",
              "      <th>Pressure3pm</th>\n",
              "      <td>145460.0</td>\n",
              "      <td>5.027043e-15</td>\n",
              "      <td>1.000003</td>\n",
              "      <td>-5.724832</td>\n",
              "      <td>-0.622769</td>\n",
              "      <td>-0.007520</td>\n",
              "      <td>0.622735</td>\n",
              "      <td>3.653960</td>\n",
              "    </tr>\n",
              "    <tr>\n",
              "      <th>Cloud9am</th>\n",
              "      <td>145460.0</td>\n",
              "      <td>-1.016038e-16</td>\n",
              "      <td>1.000003</td>\n",
              "      <td>-2.042425</td>\n",
              "      <td>-0.727490</td>\n",
              "      <td>0.149133</td>\n",
              "      <td>0.587445</td>\n",
              "      <td>1.902380</td>\n",
              "    </tr>\n",
              "    <tr>\n",
              "      <th>Cloud3pm</th>\n",
              "      <td>145460.0</td>\n",
              "      <td>7.346736e-17</td>\n",
              "      <td>1.000003</td>\n",
              "      <td>-2.235619</td>\n",
              "      <td>-0.336969</td>\n",
              "      <td>0.137693</td>\n",
              "      <td>0.612356</td>\n",
              "      <td>2.036343</td>\n",
              "    </tr>\n",
              "    <tr>\n",
              "      <th>Temp9am</th>\n",
              "      <td>145460.0</td>\n",
              "      <td>7.503050e-17</td>\n",
              "      <td>1.000003</td>\n",
              "      <td>-3.750358</td>\n",
              "      <td>-0.726764</td>\n",
              "      <td>-0.044517</td>\n",
              "      <td>0.699753</td>\n",
              "      <td>3.599302</td>\n",
              "    </tr>\n",
              "    <tr>\n",
              "      <th>Temp3pm</th>\n",
              "      <td>145460.0</td>\n",
              "      <td>-6.877796e-17</td>\n",
              "      <td>1.000003</td>\n",
              "      <td>-3.951301</td>\n",
              "      <td>-0.725322</td>\n",
              "      <td>-0.083046</td>\n",
              "      <td>0.661411</td>\n",
              "      <td>3.653834</td>\n",
              "    </tr>\n",
              "    <tr>\n",
              "      <th>RainToday</th>\n",
              "      <td>145460.0</td>\n",
              "      <td>-8.988029e-18</td>\n",
              "      <td>1.000003</td>\n",
              "      <td>-0.529795</td>\n",
              "      <td>-0.529795</td>\n",
              "      <td>-0.529795</td>\n",
              "      <td>-0.529795</td>\n",
              "      <td>1.887521</td>\n",
              "    </tr>\n",
              "    <tr>\n",
              "      <th>year</th>\n",
              "      <td>145460.0</td>\n",
              "      <td>2.080221e-14</td>\n",
              "      <td>1.000003</td>\n",
              "      <td>-2.273637</td>\n",
              "      <td>-0.697391</td>\n",
              "      <td>0.090732</td>\n",
              "      <td>0.878855</td>\n",
              "      <td>1.666978</td>\n",
              "    </tr>\n",
              "    <tr>\n",
              "      <th>month_sin</th>\n",
              "      <td>145460.0</td>\n",
              "      <td>-4.884798e-17</td>\n",
              "      <td>1.000003</td>\n",
              "      <td>-1.434333</td>\n",
              "      <td>-0.725379</td>\n",
              "      <td>-0.016425</td>\n",
              "      <td>0.692529</td>\n",
              "      <td>1.401483</td>\n",
              "    </tr>\n",
              "    <tr>\n",
              "      <th>month_cos</th>\n",
              "      <td>145460.0</td>\n",
              "      <td>-2.745257e-17</td>\n",
              "      <td>1.000003</td>\n",
              "      <td>-1.388032</td>\n",
              "      <td>-1.198979</td>\n",
              "      <td>0.023080</td>\n",
              "      <td>0.728636</td>\n",
              "      <td>1.434192</td>\n",
              "    </tr>\n",
              "    <tr>\n",
              "      <th>day_sin</th>\n",
              "      <td>145460.0</td>\n",
              "      <td>3.565903e-18</td>\n",
              "      <td>1.000003</td>\n",
              "      <td>-1.403140</td>\n",
              "      <td>-1.019170</td>\n",
              "      <td>-0.003198</td>\n",
              "      <td>1.012774</td>\n",
              "      <td>1.396744</td>\n",
              "    </tr>\n",
              "    <tr>\n",
              "      <th>day_cos</th>\n",
              "      <td>145460.0</td>\n",
              "      <td>-1.413538e-17</td>\n",
              "      <td>1.000003</td>\n",
              "      <td>-1.392587</td>\n",
              "      <td>-1.055520</td>\n",
              "      <td>-0.044639</td>\n",
              "      <td>1.011221</td>\n",
              "      <td>1.455246</td>\n",
              "    </tr>\n",
              "  </tbody>\n",
              "</table>\n",
              "</div>\n",
              "      <button class=\"colab-df-convert\" onclick=\"convertToInteractive('df-82045cb7-926c-4179-9587-e162d16249ca')\"\n",
              "              title=\"Convert this dataframe to an interactive table.\"\n",
              "              style=\"display:none;\">\n",
              "        \n",
              "  <svg xmlns=\"http://www.w3.org/2000/svg\" height=\"24px\"viewBox=\"0 0 24 24\"\n",
              "       width=\"24px\">\n",
              "    <path d=\"M0 0h24v24H0V0z\" fill=\"none\"/>\n",
              "    <path d=\"M18.56 5.44l.94 2.06.94-2.06 2.06-.94-2.06-.94-.94-2.06-.94 2.06-2.06.94zm-11 1L8.5 8.5l.94-2.06 2.06-.94-2.06-.94L8.5 2.5l-.94 2.06-2.06.94zm10 10l.94 2.06.94-2.06 2.06-.94-2.06-.94-.94-2.06-.94 2.06-2.06.94z\"/><path d=\"M17.41 7.96l-1.37-1.37c-.4-.4-.92-.59-1.43-.59-.52 0-1.04.2-1.43.59L10.3 9.45l-7.72 7.72c-.78.78-.78 2.05 0 2.83L4 21.41c.39.39.9.59 1.41.59.51 0 1.02-.2 1.41-.59l7.78-7.78 2.81-2.81c.8-.78.8-2.07 0-2.86zM5.41 20L4 18.59l7.72-7.72 1.47 1.35L5.41 20z\"/>\n",
              "  </svg>\n",
              "      </button>\n",
              "      \n",
              "  <style>\n",
              "    .colab-df-container {\n",
              "      display:flex;\n",
              "      flex-wrap:wrap;\n",
              "      gap: 12px;\n",
              "    }\n",
              "\n",
              "    .colab-df-convert {\n",
              "      background-color: #E8F0FE;\n",
              "      border: none;\n",
              "      border-radius: 50%;\n",
              "      cursor: pointer;\n",
              "      display: none;\n",
              "      fill: #1967D2;\n",
              "      height: 32px;\n",
              "      padding: 0 0 0 0;\n",
              "      width: 32px;\n",
              "    }\n",
              "\n",
              "    .colab-df-convert:hover {\n",
              "      background-color: #E2EBFA;\n",
              "      box-shadow: 0px 1px 2px rgba(60, 64, 67, 0.3), 0px 1px 3px 1px rgba(60, 64, 67, 0.15);\n",
              "      fill: #174EA6;\n",
              "    }\n",
              "\n",
              "    [theme=dark] .colab-df-convert {\n",
              "      background-color: #3B4455;\n",
              "      fill: #D2E3FC;\n",
              "    }\n",
              "\n",
              "    [theme=dark] .colab-df-convert:hover {\n",
              "      background-color: #434B5C;\n",
              "      box-shadow: 0px 1px 3px 1px rgba(0, 0, 0, 0.15);\n",
              "      filter: drop-shadow(0px 1px 2px rgba(0, 0, 0, 0.3));\n",
              "      fill: #FFFFFF;\n",
              "    }\n",
              "  </style>\n",
              "\n",
              "      <script>\n",
              "        const buttonEl =\n",
              "          document.querySelector('#df-82045cb7-926c-4179-9587-e162d16249ca button.colab-df-convert');\n",
              "        buttonEl.style.display =\n",
              "          google.colab.kernel.accessAllowed ? 'block' : 'none';\n",
              "\n",
              "        async function convertToInteractive(key) {\n",
              "          const element = document.querySelector('#df-82045cb7-926c-4179-9587-e162d16249ca');\n",
              "          const dataTable =\n",
              "            await google.colab.kernel.invokeFunction('convertToInteractive',\n",
              "                                                     [key], {});\n",
              "          if (!dataTable) return;\n",
              "\n",
              "          const docLinkHtml = 'Like what you see? Visit the ' +\n",
              "            '<a target=\"_blank\" href=https://colab.research.google.com/notebooks/data_table.ipynb>data table notebook</a>'\n",
              "            + ' to learn more about interactive tables.';\n",
              "          element.innerHTML = '';\n",
              "          dataTable['output_type'] = 'display_data';\n",
              "          await google.colab.output.renderOutput(dataTable, element);\n",
              "          const docLink = document.createElement('div');\n",
              "          docLink.innerHTML = docLinkHtml;\n",
              "          element.appendChild(docLink);\n",
              "        }\n",
              "      </script>\n",
              "    </div>\n",
              "  </div>\n",
              "  "
            ]
          },
          "metadata": {},
          "execution_count": 40
        }
      ]
    },
    {
      "cell_type": "code",
      "source": [
        "#Detecting outliers\n",
        "#looking at the scaled features\n",
        "colours = [\"#D0DBEE\", \"#C2C4E2\", \"#EED4E5\", \"#D1E6DC\", \"#BDE2E2\"]\n",
        "plt.figure(figsize=(20,10))\n",
        "sns.boxenplot(data= features,palette = colours)\n",
        "plt.xticks(rotation=90)\n",
        "plt.show()"
      ],
      "metadata": {
        "colab": {
          "base_uri": "https://localhost:8080/",
          "height": 661
        },
        "id": "DnEKQizmLWoq",
        "outputId": "05fc47c5-8a2b-4cbf-f92a-4e266ad1073a"
      },
      "execution_count": 44,
      "outputs": [
        {
          "output_type": "display_data",
          "data": {
            "text/plain": [
              "<Figure size 1440x720 with 1 Axes>"
            ],
            "image/png": "[encoded data removed]"
          },
          "metadata": {
            "needs_background": "light"
          }
        }
      ]
    },
    {
      "cell_type": "code",
      "source": [
        "features[\"RainTomorrow\"] = target"
      ],
      "metadata": {
        "id": "tyHWCJ6_LiF8"
      },
      "execution_count": 45,
      "outputs": []
    },
    {
      "cell_type": "code",
      "source": [
        "X = features.drop([\"RainTomorrow\"], axis=1)\n",
        "y = features[\"RainTomorrow\"]\n",
        "\n",
        "# Splitting test and training sets\n",
        "X_train, X_test, y_train, y_test = train_test_split(X, y, test_size = 0.2, random_state = 42)\n",
        "\n",
        "X.shape"
      ],
      "metadata": {
        "colab": {
          "base_uri": "https://localhost:8080/"
        },
        "id": "Ft5vv6tYLlc8",
        "outputId": "f018f902-f4f4-49db-a1d1-564ffab61cbf"
      },
      "execution_count": 46,
      "outputs": [
        {
          "output_type": "execute_result",
          "data": {
            "text/plain": [
              "(145460, 26)"
            ]
          },
          "metadata": {},
          "execution_count": 46
        }
      ]
    },
    {
      "cell_type": "code",
      "source": [
        "#Early stopping\n",
        "early_stopping = callbacks.EarlyStopping(\n",
        "    min_delta=0.001, # minimium amount of change to count as an improvement\n",
        "    patience=20, # how many epochs to wait before stopping\n",
        "    restore_best_weights=True,\n",
        ")\n",
        "\n",
        "# Initialising the NN\n",
        "model = Sequential()\n",
        "\n",
        "# layers\n",
        "\n",
        "model.add(Dense(units = 32,activation = 'relu', input_dim = 26))\n",
        "model.add(Dense(units = 32,activation = 'relu'))\n",
        "model.add(Dense(units = 16,activation = 'relu'))\n",
        "model.add(Dropout(0.25))\n",
        "model.add(Dense(units = 1,activation = 'sigmoid'))\n",
        "\n",
        "# Compiling the ANN\n",
        "opt = Adam(learning_rate=0.00009)\n",
        "model.compile(optimizer = opt, loss = 'binary_crossentropy', metrics = ['accuracy'])\n",
        "\n",
        "# Train the ANN\n",
        "history = model.fit(X_train, y_train, batch_size = 32, epochs=50, callbacks=[early_stopping], validation_split=0.2)"
      ],
      "metadata": {
        "colab": {
          "base_uri": "https://localhost:8080/"
        },
        "id": "OBGYgWiwMiZp",
        "outputId": "ae9a134c-dda2-4739-b19a-da54d85789be"
      },
      "execution_count": 47,
      "outputs": [
        {
          "output_type": "stream",
          "name": "stdout",
          "text": [
            "Epoch 1/150\n",
            "2910/2910 [==============================] - 12s 4ms/step - loss: 0.4628 - accuracy: 0.7983 - val_loss: 0.3862 - val_accuracy: 0.8395\n",
            "Epoch 2/150\n",
            "2910/2910 [==============================] - 9s 3ms/step - loss: 0.4031 - accuracy: 0.8259 - val_loss: 0.3707 - val_accuracy: 0.8432\n",
            "Epoch 3/150\n",
            "2910/2910 [==============================] - 9s 3ms/step - loss: 0.3929 - accuracy: 0.8282 - val_loss: 0.3656 - val_accuracy: 0.8448\n",
            "Epoch 4/150\n",
            "2910/2910 [==============================] - 9s 3ms/step - loss: 0.3909 - accuracy: 0.8299 - val_loss: 0.3633 - val_accuracy: 0.8461\n",
            "Epoch 5/150\n",
            "2910/2910 [==============================] - 9s 3ms/step - loss: 0.3892 - accuracy: 0.8304 - val_loss: 0.3619 - val_accuracy: 0.8461\n",
            "Epoch 6/150\n",
            "2910/2910 [==============================] - 9s 3ms/step - loss: 0.3874 - accuracy: 0.8303 - val_loss: 0.3609 - val_accuracy: 0.8468\n",
            "Epoch 7/150\n",
            "2910/2910 [==============================] - 11s 4ms/step - loss: 0.3850 - accuracy: 0.8305 - val_loss: 0.3602 - val_accuracy: 0.8474\n",
            "Epoch 8/150\n",
            "2910/2910 [==============================] - 9s 3ms/step - loss: 0.3834 - accuracy: 0.8330 - val_loss: 0.3598 - val_accuracy: 0.8478\n",
            "Epoch 9/150\n",
            "2910/2910 [==============================] - 8s 3ms/step - loss: 0.3847 - accuracy: 0.8319 - val_loss: 0.3583 - val_accuracy: 0.8467\n",
            "Epoch 10/150\n",
            "2910/2910 [==============================] - 9s 3ms/step - loss: 0.3819 - accuracy: 0.8326 - val_loss: 0.3574 - val_accuracy: 0.8478\n",
            "Epoch 11/150\n",
            "2910/2910 [==============================] - 10s 3ms/step - loss: 0.3822 - accuracy: 0.8327 - val_loss: 0.3577 - val_accuracy: 0.8468\n",
            "Epoch 12/150\n",
            "2910/2910 [==============================] - 9s 3ms/step - loss: 0.3815 - accuracy: 0.8323 - val_loss: 0.3576 - val_accuracy: 0.8468\n",
            "Epoch 13/150\n",
            "2910/2910 [==============================] - 10s 4ms/step - loss: 0.3802 - accuracy: 0.8333 - val_loss: 0.3560 - val_accuracy: 0.8472\n",
            "Epoch 14/150\n",
            "2910/2910 [==============================] - 12s 4ms/step - loss: 0.3804 - accuracy: 0.8333 - val_loss: 0.3557 - val_accuracy: 0.8477\n",
            "Epoch 15/150\n",
            "2910/2910 [==============================] - 10s 3ms/step - loss: 0.3802 - accuracy: 0.8326 - val_loss: 0.3573 - val_accuracy: 0.8466\n",
            "Epoch 16/150\n",
            "2910/2910 [==============================] - 9s 3ms/step - loss: 0.3794 - accuracy: 0.8330 - val_loss: 0.3556 - val_accuracy: 0.8479\n",
            "Epoch 17/150\n",
            "2910/2910 [==============================] - 8s 3ms/step - loss: 0.3809 - accuracy: 0.8319 - val_loss: 0.3551 - val_accuracy: 0.8476\n",
            "Epoch 18/150\n",
            "2910/2910 [==============================] - 10s 3ms/step - loss: 0.3782 - accuracy: 0.8330 - val_loss: 0.3554 - val_accuracy: 0.8482\n",
            "Epoch 19/150\n",
            "2910/2910 [==============================] - 10s 3ms/step - loss: 0.3801 - accuracy: 0.8317 - val_loss: 0.3556 - val_accuracy: 0.8472\n",
            "Epoch 20/150\n",
            "2910/2910 [==============================] - 10s 3ms/step - loss: 0.3782 - accuracy: 0.8328 - val_loss: 0.3549 - val_accuracy: 0.8478\n",
            "Epoch 21/150\n",
            "2910/2910 [==============================] - 8s 3ms/step - loss: 0.3790 - accuracy: 0.8327 - val_loss: 0.3552 - val_accuracy: 0.8472\n",
            "Epoch 22/150\n",
            "2910/2910 [==============================] - 11s 4ms/step - loss: 0.3783 - accuracy: 0.8329 - val_loss: 0.3568 - val_accuracy: 0.8453\n",
            "Epoch 23/150\n",
            "2910/2910 [==============================] - 9s 3ms/step - loss: 0.3773 - accuracy: 0.8335 - val_loss: 0.3558 - val_accuracy: 0.8470\n",
            "Epoch 24/150\n",
            "2910/2910 [==============================] - 8s 3ms/step - loss: 0.3784 - accuracy: 0.8321 - val_loss: 0.3551 - val_accuracy: 0.8468\n",
            "Epoch 25/150\n",
            "2910/2910 [==============================] - 10s 3ms/step - loss: 0.3773 - accuracy: 0.8335 - val_loss: 0.3548 - val_accuracy: 0.8473\n",
            "Epoch 26/150\n",
            "2910/2910 [==============================] - 10s 3ms/step - loss: 0.3755 - accuracy: 0.8337 - val_loss: 0.3549 - val_accuracy: 0.8480\n",
            "Epoch 27/150\n",
            "2910/2910 [==============================] - 9s 3ms/step - loss: 0.3762 - accuracy: 0.8327 - val_loss: 0.3539 - val_accuracy: 0.8485\n",
            "Epoch 28/150\n",
            "2910/2910 [==============================] - 9s 3ms/step - loss: 0.3750 - accuracy: 0.8339 - val_loss: 0.3535 - val_accuracy: 0.8486\n",
            "Epoch 29/150\n",
            "2910/2910 [==============================] - 11s 4ms/step - loss: 0.3771 - accuracy: 0.8337 - val_loss: 0.3548 - val_accuracy: 0.8467\n",
            "Epoch 30/150\n",
            "2910/2910 [==============================] - 8s 3ms/step - loss: 0.3742 - accuracy: 0.8330 - val_loss: 0.3549 - val_accuracy: 0.8460\n",
            "Epoch 31/150\n",
            "2910/2910 [==============================] - 9s 3ms/step - loss: 0.3745 - accuracy: 0.8332 - val_loss: 0.3533 - val_accuracy: 0.8491\n",
            "Epoch 32/150\n",
            "2910/2910 [==============================] - 9s 3ms/step - loss: 0.3768 - accuracy: 0.8330 - val_loss: 0.3533 - val_accuracy: 0.8484\n",
            "Epoch 33/150\n",
            "2910/2910 [==============================] - 10s 3ms/step - loss: 0.3755 - accuracy: 0.8328 - val_loss: 0.3528 - val_accuracy: 0.8485\n",
            "Epoch 34/150\n",
            "2910/2910 [==============================] - 9s 3ms/step - loss: 0.3745 - accuracy: 0.8337 - val_loss: 0.3534 - val_accuracy: 0.8473\n",
            "Epoch 35/150\n",
            "2910/2910 [==============================] - 9s 3ms/step - loss: 0.3746 - accuracy: 0.8342 - val_loss: 0.3531 - val_accuracy: 0.8480\n",
            "Epoch 36/150\n",
            "2910/2910 [==============================] - 11s 4ms/step - loss: 0.3742 - accuracy: 0.8331 - val_loss: 0.3524 - val_accuracy: 0.8486\n",
            "Epoch 37/150\n",
            "2910/2910 [==============================] - 10s 4ms/step - loss: 0.3737 - accuracy: 0.8334 - val_loss: 0.3533 - val_accuracy: 0.8475\n",
            "Epoch 38/150\n",
            "2910/2910 [==============================] - 8s 3ms/step - loss: 0.3735 - accuracy: 0.8341 - val_loss: 0.3530 - val_accuracy: 0.8482\n",
            "Epoch 39/150\n",
            "2910/2910 [==============================] - 10s 3ms/step - loss: 0.3740 - accuracy: 0.8332 - val_loss: 0.3543 - val_accuracy: 0.8459\n",
            "Epoch 40/150\n",
            "2910/2910 [==============================] - 9s 3ms/step - loss: 0.3753 - accuracy: 0.8334 - val_loss: 0.3532 - val_accuracy: 0.8482\n",
            "Epoch 41/150\n",
            "2910/2910 [==============================] - 10s 3ms/step - loss: 0.3742 - accuracy: 0.8331 - val_loss: 0.3541 - val_accuracy: 0.8461\n",
            "Epoch 42/150\n",
            "2910/2910 [==============================] - 9s 3ms/step - loss: 0.3741 - accuracy: 0.8339 - val_loss: 0.3535 - val_accuracy: 0.8471\n",
            "Epoch 43/150\n",
            "2910/2910 [==============================] - 12s 4ms/step - loss: 0.3725 - accuracy: 0.8342 - val_loss: 0.3524 - val_accuracy: 0.8489\n",
            "Epoch 44/150\n",
            "2910/2910 [==============================] - 9s 3ms/step - loss: 0.3738 - accuracy: 0.8328 - val_loss: 0.3529 - val_accuracy: 0.8480\n",
            "Epoch 45/150\n",
            "2910/2910 [==============================] - 10s 3ms/step - loss: 0.3726 - accuracy: 0.8346 - val_loss: 0.3529 - val_accuracy: 0.8478\n",
            "Epoch 46/150\n",
            "2910/2910 [==============================] - 8s 3ms/step - loss: 0.3722 - accuracy: 0.8334 - val_loss: 0.3539 - val_accuracy: 0.8466\n",
            "Epoch 47/150\n",
            "2910/2910 [==============================] - 10s 3ms/step - loss: 0.3719 - accuracy: 0.8339 - val_loss: 0.3526 - val_accuracy: 0.8477\n",
            "Epoch 48/150\n",
            "2910/2910 [==============================] - 10s 3ms/step - loss: 0.3751 - accuracy: 0.8328 - val_loss: 0.3540 - val_accuracy: 0.8467\n",
            "Epoch 49/150\n",
            "2910/2910 [==============================] - 8s 3ms/step - loss: 0.3719 - accuracy: 0.8333 - val_loss: 0.3538 - val_accuracy: 0.8470\n",
            "Epoch 50/150\n",
            "2910/2910 [==============================] - 9s 3ms/step - loss: 0.3733 - accuracy: 0.8342 - val_loss: 0.3525 - val_accuracy: 0.8479\n",
            "Epoch 51/150\n",
            "2910/2910 [==============================] - 11s 4ms/step - loss: 0.3725 - accuracy: 0.8339 - val_loss: 0.3529 - val_accuracy: 0.8476\n",
            "Epoch 52/150\n",
            "2910/2910 [==============================] - 9s 3ms/step - loss: 0.3738 - accuracy: 0.8334 - val_loss: 0.3530 - val_accuracy: 0.8476\n",
            "Epoch 53/150\n",
            "2910/2910 [==============================] - 9s 3ms/step - loss: 0.3735 - accuracy: 0.8344 - val_loss: 0.3527 - val_accuracy: 0.8486\n",
            "Epoch 54/150\n",
            "2910/2910 [==============================] - 10s 3ms/step - loss: 0.3719 - accuracy: 0.8338 - val_loss: 0.3531 - val_accuracy: 0.8467\n",
            "Epoch 55/150\n",
            "2910/2910 [==============================] - 9s 3ms/step - loss: 0.3731 - accuracy: 0.8347 - val_loss: 0.3526 - val_accuracy: 0.8475\n",
            "Epoch 56/150\n",
            "2910/2910 [==============================] - 9s 3ms/step - loss: 0.3722 - accuracy: 0.8342 - val_loss: 0.3539 - val_accuracy: 0.8465\n"
          ]
        }
      ]
    },
    {
      "cell_type": "code",
      "source": [
        "history_df = pd.DataFrame(history.history)\n",
        "\n",
        "plt.plot(history_df.loc[:, ['loss']], \"#BDE2E2\", label='Training loss')\n",
        "plt.plot(history_df.loc[:, ['val_loss']],\"#C2C4E2\", label='Validation loss')\n",
        "plt.title('Training and Validation loss')\n",
        "plt.xlabel('Epochs')\n",
        "plt.ylabel('Loss')\n",
        "plt.legend(loc=\"best\")\n"
      ],
      "metadata": {
        "colab": {
          "base_uri": "https://localhost:8080/",
          "height": 312
        },
        "id": "ekTRSyOqMrn5",
        "outputId": "453f0182-309c-4627-e8aa-1000c1352581"
      },
      "execution_count": 48,
      "outputs": [
        {
          "output_type": "execute_result",
          "data": {
            "text/plain": [
              "<matplotlib.legend.Legend at 0x7fc8ec0f9850>"
            ]
          },
          "metadata": {},
          "execution_count": 48
        },
        {
          "output_type": "display_data",
          "data": {
            "text/plain": [
              "<Figure size 432x288 with 1 Axes>"
            ],
            "image/png": "[encoded data removed]"
          },
          "metadata": {
            "needs_background": "light"
          }
        }
      ]
    },
    {
      "cell_type": "code",
      "source": [
        "history_df = pd.DataFrame(history.history)\n",
        "\n",
        "plt.plot(history_df.loc[:, ['accuracy']], \"#BDE2E2\", label='Training accuracy')\n",
        "plt.plot(history_df.loc[:, ['val_accuracy']], \"#C2C4E2\", label='Validation accuracy')\n",
        "\n",
        "plt.title('Training and Validation accuracy')\n",
        "plt.xlabel('Epochs')\n",
        "plt.ylabel('Accuracy')\n",
        "plt.legend()\n",
        "plt.show()"
      ],
      "metadata": {
        "colab": {
          "base_uri": "https://localhost:8080/",
          "height": 295
        },
        "id": "HsSHY4bYPPg-",
        "outputId": "c8b3aa59-37ee-4e37-edd0-d16f6c02c377"
      },
      "execution_count": 53,
      "outputs": [
        {
          "output_type": "display_data",
          "data": {
            "text/plain": [
              "<Figure size 432x288 with 1 Axes>"
            ],
            "image/png": "[encoded data removed]"
          },
          "metadata": {
            "needs_background": "light"
          }
        }
      ]
    },
    {
      "cell_type": "code",
      "source": [
        "# Predicting the test set results\n",
        "y_pred = model.predict(X_test)\n",
        "y_pred = (y_pred > 0.5)\n",
        "# confusion matrix\n",
        "cmap1 = sns.diverging_palette(260,-10,s=50, l=75, n=5, as_cmap=True)\n",
        "plt.subplots(figsize=(12,8))\n",
        "cf_matrix = confusion_matrix(y_test, y_pred)\n",
        "sns.heatmap(cf_matrix/np.sum(cf_matrix), cmap = cmap1, annot = True, annot_kws = {'size':15})"
      ],
      "metadata": {
        "colab": {
          "base_uri": "https://localhost:8080/",
          "height": 518
        },
        "id": "ZC-ty6x-PY3M",
        "outputId": "f5b19bbf-945c-453f-c356-0dda1cce9ecd"
      },
      "execution_count": 54,
      "outputs": [
        {
          "output_type": "stream",
          "name": "stdout",
          "text": [
            "910/910 [==============================] - 2s 2ms/step\n"
          ]
        },
        {
          "output_type": "execute_result",
          "data": {
            "text/plain": [
              "<Axes: >"
            ]
          },
          "metadata": {},
          "execution_count": 54
        },
        {
          "output_type": "display_data",
          "data": {
            "text/plain": [
              "<Figure size 864x576 with 2 Axes>"
            ],
            "image/png": "[encoded data removed]"
          },
          "metadata": {
            "needs_background": "light"
          }
        }
      ]
    },
    {
      "cell_type": "code",
      "source": [
        "print(classification_report(y_test, y_pred))"
      ],
      "metadata": {
        "colab": {
          "base_uri": "https://localhost:8080/"
        },
        "id": "v6iS1Di2PiZX",
        "outputId": "e7fa343a-cd38-42de-a068-8f59f65c0680"
      },
      "execution_count": 55,
      "outputs": [
        {
          "output_type": "stream",
          "name": "stdout",
          "text": [
            "              precision    recall  f1-score   support\n",
            "\n",
            "           0       0.86      0.96      0.91     22672\n",
            "           1       0.75      0.45      0.56      6420\n",
            "\n",
            "    accuracy                           0.85     29092\n",
            "   macro avg       0.80      0.70      0.73     29092\n",
            "weighted avg       0.84      0.85      0.83     29092\n",
            "\n"
          ]
        }
      ]
    },
    {
      "cell_type": "code",
      "source": [],
      "metadata": {
        "id": "5VD0a1ksQB0Y"
      },
      "execution_count": null,
      "outputs": []
    }
  ]
}